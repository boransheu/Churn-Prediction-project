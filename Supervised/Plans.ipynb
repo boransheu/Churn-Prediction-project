{
 "cells": [
  {
   "cell_type": "code",
   "execution_count": 1,
   "id": "1858c28f-d87a-464c-b39a-d37782c77191",
   "metadata": {},
   "outputs": [],
   "source": [
    "\n",
    "import seaborn as sns\n",
    "import pandas as pd\n",
    "import numpy as np\n",
    "\n"
   ]
  },
  {
   "cell_type": "code",
   "execution_count": 2,
   "id": "25e607c5-9dcf-44bb-a46e-600db744011c",
   "metadata": {},
   "outputs": [],
   "source": [
    "df=pd.read_csv('/home/jupyter/churn&cluster_v2_04_02.csv')"
   ]
  },
  {
   "cell_type": "code",
   "execution_count": 3,
   "id": "5cb79f59-ab7c-453d-b4da-8a65296517c8",
   "metadata": {},
   "outputs": [],
   "source": [
    "df=df.drop(\"Unnamed: 0\", axis=1)\n",
    "df.dropna(subset = ['churn'],inplace = True)"
   ]
  },
  {
   "cell_type": "code",
   "execution_count": 4,
   "id": "1f57f5de-a19b-482a-9156-353c3b7ca54d",
   "metadata": {},
   "outputs": [],
   "source": [
    "cluster=len(df.cluster.unique())\n",
    "# Create 8 separate dataframes based on the cluster column\n",
    "df_list = [df[df['cluster']==i] for i in range(cluster)]\n",
    "\n",
    "# Assign separate dataframes to variables\n",
    "df_cluster0, df_cluster1, df_cluster2, df_cluster3, df_cluster4, df_cluster5, df_cluster6, df_cluster7 = df_list"
   ]
  },
  {
   "cell_type": "code",
   "execution_count": 5,
   "id": "cf2845d0-ff79-415b-a022-62eb1abbde57",
   "metadata": {},
   "outputs": [],
   "source": [
    "columns=['churn','avg_time_btw_orders', 'recency', 'months_elapsed',\n",
    "       'purchase_times', 'lifetime_spent', 'lifetime_quantity',\n",
    "       'per_order_spent', 'per_order_quantity', 'distinct_category_count',\n",
    "       'discount_frequency_order', 'discount_frequency_product',\n",
    "       'outdoor_equipment_pct', 'cargo_pct', 'soft_cooler_pct', 'bags_pct',\n",
    "       'drinkware_pct', 'hard_cooler_pct', 'other_pct', 'black_pct',\n",
    "       'white_pct', 'navy_pct', 'seaform_pct', 'stainless_pct', 'charcoal_pct',\n",
    "       'nordic_purple_pct', 'harvest_red_pct', 'alpine_yellow_pct',\n",
    "       'other_color_pct', 'product_added_count',\n",
    "       'product_added_to_wishlist_count', 'product_removed_count',\n",
    "       'customizer_started_count', 'customizer_completed_count',\n",
    "       'cart_viewed_count', 'checkout_started_count', 'order_cancelled_count',\n",
    "       'email_received', 'email_open_rate', 'max_entry_product_price',\n",
    "       'unsubscribed_0.0', 'unsubscribed_1.0', 'unsubscribed_2.0']\n",
    "\n",
    "for i in range(0,8):\n",
    "    df = globals()['df_cluster{}'.format(i)]\n",
    "    new_df = df[columns]\n",
    "    globals()['df_cluster_short{}'.format(i)] = new_df"
   ]
  },
  {
   "cell_type": "code",
   "execution_count": 6,
   "id": "2e9fdd45-98d7-4c08-9427-7a8c4520c7bd",
   "metadata": {},
   "outputs": [],
   "source": [
    "#Successful rate.\n",
    "retain=0.2"
   ]
  },
  {
   "cell_type": "markdown",
   "id": "e53ba4ad-f01f-4f7f-815b-77c0f82a620a",
   "metadata": {},
   "source": [
    "#### Accessory"
   ]
  },
  {
   "cell_type": "code",
   "execution_count": 7,
   "id": "ad98558e-aac9-4bad-9664-428f546ce630",
   "metadata": {},
   "outputs": [
    {
     "name": "stdout",
     "output_type": "stream",
     "text": [
      "236200\n"
     ]
    },
    {
     "data": {
      "text/plain": [
       "171132"
      ]
     },
     "execution_count": 7,
     "metadata": {},
     "output_type": "execute_result"
    }
   ],
   "source": [
    "A=df_cluster_short4[df_cluster_short4.distinct_category_count==2]\n",
    "print(len(A[A.churn==1]))\n",
    "len(A[A.churn==0])\n",
    "\n",
    "#The number of customer that has distinct category of 2 who has churned is 236,200.\n",
    "#The number of customer that has distinct category of 2 who has not churned is 171,132."
   ]
  },
  {
   "cell_type": "code",
   "execution_count": 8,
   "id": "f4bf569a-bdd9-4a12-8b91-80c6efa31720",
   "metadata": {},
   "outputs": [],
   "source": [
    "B=[]\n",
    "for i in range(3,8):\n",
    "    B.append(len(df_cluster_short4[(df_cluster_short4.distinct_category_count==i)]))\n"
   ]
  },
  {
   "cell_type": "code",
   "execution_count": 9,
   "id": "198ff8ca-1778-4bba-825a-abaeeef74378",
   "metadata": {},
   "outputs": [
    {
     "data": {
      "text/plain": [
       "array([116340,  25579,   3019,    182,     16])"
      ]
     },
     "execution_count": 9,
     "metadata": {},
     "output_type": "execute_result"
    }
   ],
   "source": [
    "Churn=np.array(B)\n",
    "Churn"
   ]
  },
  {
   "cell_type": "code",
   "execution_count": 10,
   "id": "dd37c382-2aa3-4d6b-ac3b-b8445122326a",
   "metadata": {},
   "outputs": [
    {
     "data": {
      "text/plain": [
       "distinct_category_count\n",
       "1.0    106.402262\n",
       "2.0    236.233191\n",
       "3.0    448.649417\n",
       "4.0    675.685039\n",
       "5.0    766.780556\n",
       "6.0    607.796044\n",
       "7.0    303.975000\n",
       "Name: lifetime_spent, dtype: float64"
      ]
     },
     "execution_count": 10,
     "metadata": {},
     "output_type": "execute_result"
    }
   ],
   "source": [
    "df_cluster_short4.groupby(\"distinct_category_count\")[\"lifetime_spent\"].mean(\"lifetime_spent\")"
   ]
  },
  {
   "cell_type": "code",
   "execution_count": 11,
   "id": "6c75033c-e072-4d5d-ac99-f8d69d2da2b7",
   "metadata": {},
   "outputs": [
    {
     "name": "stdout",
     "output_type": "stream",
     "text": [
      "71814021\n"
     ]
    },
    {
     "data": {
      "text/plain": [
       "251349.07350000006"
      ]
     },
     "execution_count": 11,
     "metadata": {},
     "output_type": "execute_result"
    }
   ],
   "source": [
    "d=0.0125+0.005\n",
    "spent= np.array([448, 675, 766, 607, 303])\n",
    "\n",
    "Target= np.sum(spent * Churn)\n",
    "print(Target)\n",
    "\n",
    "Total =Target *retain *d \n",
    "Total\n",
    "\n"
   ]
  },
  {
   "cell_type": "code",
   "execution_count": 24,
   "id": "8a7cd46f-7c5b-4075-bd5c-9ab5d1826f0b",
   "metadata": {},
   "outputs": [
    {
     "name": "stdout",
     "output_type": "stream",
     "text": [
      "215265\n",
      "369.9194379021207\n"
     ]
    },
    {
     "data": {
      "text/plain": [
       "278707.4773000001"
      ]
     },
     "execution_count": 24,
     "metadata": {},
     "output_type": "execute_result"
    }
   ],
   "source": [
    "Churn=len(df_cluster_short4[(df_cluster_short4.customizer_completed_count>=3)])\n",
    "print(Churn) \n",
    "\n",
    "Target= np.mean(df_cluster_short4[(df_cluster_short4.customizer_completed_count>=3)][\"lifetime_spent\"])\n",
    "print(Target)\n",
    "\n",
    "\n",
    "Total= Target * d * Churn * retain\n",
    "Total"
   ]
  },
  {
   "cell_type": "code",
   "execution_count": null,
   "id": "3a815390-4082-4c2d-9477-0d42a5f4fb0d",
   "metadata": {},
   "outputs": [],
   "source": []
  },
  {
   "cell_type": "code",
   "execution_count": null,
   "id": "861180aa-d9af-46c9-bd33-16b28bc796dc",
   "metadata": {},
   "outputs": [],
   "source": []
  },
  {
   "cell_type": "markdown",
   "id": "c20d48b9-79b5-4f88-8009-8caab7fa7917",
   "metadata": {},
   "source": [
    "#### Hard Cooler.\n",
    "- Cut off 0.7\n",
    "- Model's baseline churn 64%"
   ]
  },
  {
   "cell_type": "code",
   "execution_count": 12,
   "id": "42599f30-2359-47e9-ab7e-ecc910a58535",
   "metadata": {},
   "outputs": [
    {
     "data": {
      "text/plain": [
       "5998"
      ]
     },
     "execution_count": 12,
     "metadata": {},
     "output_type": "execute_result"
    }
   ],
   "source": [
    "d2=0.03 #decrease 3% propensity of churning.\n",
    "Churn2=len(df_cluster_short1[(df_cluster_short1.drinkware_pct>=0.7) ])\n",
    "Churn2"
   ]
  },
  {
   "cell_type": "code",
   "execution_count": 13,
   "id": "8104eca4-5818-4f05-96ae-072c59253c15",
   "metadata": {},
   "outputs": [
    {
     "data": {
      "text/plain": [
       "729.2375041680561"
      ]
     },
     "execution_count": 13,
     "metadata": {},
     "output_type": "execute_result"
    }
   ],
   "source": [
    "# for drinkware percentage >0.7 and churned, the mean value of lifetime spent.\n",
    "Target2 = np.mean(df_cluster_short1[(df_cluster_short1.drinkware_pct>=0.7)] [\"lifetime_spent\"])\n",
    "Target2"
   ]
  },
  {
   "cell_type": "code",
   "execution_count": 14,
   "id": "1a262086-0b97-43ff-895d-52d227b0335e",
   "metadata": {},
   "outputs": [
    {
     "data": {
      "text/plain": [
       "26243.799300000002"
      ]
     },
     "execution_count": 14,
     "metadata": {},
     "output_type": "execute_result"
    }
   ],
   "source": [
    "Total2= Target2 * d2 * Churn2 * retain\n",
    "Total2"
   ]
  },
  {
   "cell_type": "markdown",
   "id": "571ae2ee-02f1-414d-8522-8427f75adae2",
   "metadata": {},
   "source": [
    "#### Increase Hard Cooler fan's month elapse from 40 months to 50 months."
   ]
  },
  {
   "cell_type": "code",
   "execution_count": 15,
   "id": "dac62012-9ff6-4964-84b2-6c4a87b4cb26",
   "metadata": {},
   "outputs": [
    {
     "data": {
      "text/plain": [
       "6463"
      ]
     },
     "execution_count": 15,
     "metadata": {},
     "output_type": "execute_result"
    }
   ],
   "source": [
    "Churn3=len(df_cluster_short1[(df_cluster_short1.months_elapsed>=40) &(df_cluster_short1.months_elapsed<=50)])\n",
    "Churn3                         \n",
    "                        "
   ]
  },
  {
   "cell_type": "code",
   "execution_count": 16,
   "id": "a254c53c-d88d-40ec-a733-f04c4e81ca29",
   "metadata": {},
   "outputs": [
    {
     "data": {
      "text/plain": [
       "756.5234999226366"
      ]
     },
     "execution_count": 16,
     "metadata": {},
     "output_type": "execute_result"
    }
   ],
   "source": [
    "Target3= np.mean(df_cluster_short1[(df_cluster_short1.months_elapsed>=40) &(df_cluster_short1.months_elapsed<=50)][\"lifetime_spent\"])\n",
    "Target3"
   ]
  },
  {
   "cell_type": "code",
   "execution_count": 17,
   "id": "041c28cb-23b2-48f1-97c0-82a47ff0bc26",
   "metadata": {},
   "outputs": [
    {
     "data": {
      "text/plain": [
       "97788.22760000003"
      ]
     },
     "execution_count": 17,
     "metadata": {},
     "output_type": "execute_result"
    }
   ],
   "source": [
    "d3= 0.1\n",
    "Total3= Target3 * d3 * Churn3 * retain\n",
    "Total3"
   ]
  },
  {
   "cell_type": "markdown",
   "id": "9e72d1d0-a7c8-432f-8adb-f8494bc894b8",
   "metadata": {},
   "source": [
    "#### Accessory fans with more than 2 customize items.\n"
   ]
  },
  {
   "cell_type": "code",
   "execution_count": 18,
   "id": "221c4f36-80a5-4275-a319-bb4689e3409c",
   "metadata": {},
   "outputs": [
    {
     "data": {
      "text/plain": [
       "215265"
      ]
     },
     "execution_count": 18,
     "metadata": {},
     "output_type": "execute_result"
    }
   ],
   "source": [
    "Churn4=len(df_cluster_short4[(df_cluster_short4.customizer_completed_count>2)])\n",
    "Churn4 "
   ]
  },
  {
   "cell_type": "code",
   "execution_count": 19,
   "id": "f900551f-e4a3-4e01-91f8-856e64f66f49",
   "metadata": {},
   "outputs": [
    {
     "data": {
      "text/plain": [
       "369.9194379021207"
      ]
     },
     "execution_count": 19,
     "metadata": {},
     "output_type": "execute_result"
    }
   ],
   "source": [
    "Target4= np.mean(df_cluster_short4[(df_cluster_short4.customizer_completed_count>2)][\"lifetime_spent\"])\n",
    "Target4"
   ]
  },
  {
   "cell_type": "code",
   "execution_count": 20,
   "id": "69d4dff9-688d-4e47-9d0f-c3c1ef21b44d",
   "metadata": {},
   "outputs": [
    {
     "data": {
      "text/plain": [
       "955568.4936000002"
      ]
     },
     "execution_count": 20,
     "metadata": {},
     "output_type": "execute_result"
    }
   ],
   "source": [
    "d4= 0.06\n",
    "Total4= Target4 * d4 * Churn4 * retain\n",
    "Total4"
   ]
  },
  {
   "cell_type": "markdown",
   "id": "914e871b-989b-4e35-9d35-4dd2f190fb15",
   "metadata": {},
   "source": [
    "#### Drinkware fans with more than 1 customize items.\n"
   ]
  },
  {
   "cell_type": "code",
   "execution_count": 21,
   "id": "c97d65a5-6b17-4117-91ef-9c67d0e9b0bf",
   "metadata": {},
   "outputs": [
    {
     "name": "stdout",
     "output_type": "stream",
     "text": [
      "16962\n",
      "301.87799434029006\n"
     ]
    },
    {
     "data": {
      "text/plain": [
       "61445.45447999999"
      ]
     },
     "execution_count": 21,
     "metadata": {},
     "output_type": "execute_result"
    }
   ],
   "source": [
    "Churn4_2=len(df_cluster_short2[(df_cluster_short2.customizer_completed_count>2)])\n",
    "print(Churn4_2) \n",
    "\n",
    "Target4_2= np.mean(df_cluster_short2[(df_cluster_short2.customizer_completed_count>2)][\"lifetime_spent\"])\n",
    "print(Target4_2)\n",
    "\n",
    "d4_2= 0.06\n",
    "Total4_2= Target4_2 * d4_2 * Churn4_2 * retain\n",
    "Total4_2"
   ]
  },
  {
   "cell_type": "code",
   "execution_count": null,
   "id": "363c374f-253c-4bfd-a56f-771dd180907c",
   "metadata": {},
   "outputs": [],
   "source": []
  },
  {
   "cell_type": "code",
   "execution_count": 22,
   "id": "dd3fc92f-7c7c-4c0b-8c8c-052df4c4e7e5",
   "metadata": {},
   "outputs": [
    {
     "name": "stdout",
     "output_type": "stream",
     "text": [
      "7093\n",
      "6411.164302833779\n"
     ]
    },
    {
     "data": {
      "text/plain": [
       "727590.2143999999"
      ]
     },
     "execution_count": 22,
     "metadata": {},
     "output_type": "execute_result"
    }
   ],
   "source": [
    "Churn4_3=len(df_cluster_short7[(df_cluster_short7.customizer_completed_count>2)])\n",
    "print(Churn4_3) \n",
    "\n",
    "Target4_3= np.mean(df_cluster_short7[(df_cluster_short7.customizer_completed_count>2)][\"lifetime_spent\"])\n",
    "print(Target4_3)\n",
    "\n",
    "d4_3= 0.08\n",
    "Total4_3= Target4_3 * d4_3 * Churn4_3 * retain\n",
    "Total4_3"
   ]
  },
  {
   "cell_type": "code",
   "execution_count": 23,
   "id": "6cbc74be-49fb-43db-9600-d40e33e3ed05",
   "metadata": {},
   "outputs": [
    {
     "data": {
      "text/plain": [
       "1744604.16248"
      ]
     },
     "execution_count": 23,
     "metadata": {},
     "output_type": "execute_result"
    }
   ],
   "source": [
    "Total4+Total4_2+Total4_3"
   ]
  },
  {
   "cell_type": "code",
   "execution_count": null,
   "id": "6b8843fc-ea46-4762-8500-e37b2dfc4b18",
   "metadata": {},
   "outputs": [],
   "source": []
  }
 ],
 "metadata": {
  "kernelspec": {
   "display_name": "Python (Local)",
   "language": "python",
   "name": "local-base"
  },
  "language_info": {
   "codemirror_mode": {
    "name": "ipython",
    "version": 3
   },
   "file_extension": ".py",
   "mimetype": "text/x-python",
   "name": "python",
   "nbconvert_exporter": "python",
   "pygments_lexer": "ipython3",
   "version": "3.7.12"
  }
 },
 "nbformat": 4,
 "nbformat_minor": 5
}
