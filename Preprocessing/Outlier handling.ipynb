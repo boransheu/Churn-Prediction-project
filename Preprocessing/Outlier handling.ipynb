{
 "cells": [
  {
   "cell_type": "code",
   "execution_count": 1,
   "id": "82c33ac8-7c83-4bf4-aa3c-e71f7c38c100",
   "metadata": {},
   "outputs": [],
   "source": [
    "import pandas as pd\n",
    "import matplotlib.pyplot as plt\n",
    "import seaborn as sns"
   ]
  },
  {
   "cell_type": "markdown",
   "id": "ad355759-60ea-4400-bf5f-9f292416655f",
   "metadata": {},
   "source": [
    "According to file \"Outlier Detection\":\n",
    "* Cut out lifetime spent >40000. Drop 441 rows.\n",
    "* Cut out purchase time >100. Drop 615 rows.\n",
    "* Cut out lifetime quantity >1000. Drop 908 rows."
   ]
  },
  {
   "cell_type": "code",
   "execution_count": 15,
   "id": "65be21df-5bda-4e93-8169-2cf02eebf0c5",
   "metadata": {},
   "outputs": [],
   "source": [
    "df=pd.read_csv(\"/home/jupyter/Data_files/data_vfinal_03_17_23.csv\")"
   ]
  },
  {
   "cell_type": "code",
   "execution_count": 16,
   "id": "71447ff4-74b5-499d-a398-d507179bba39",
   "metadata": {},
   "outputs": [
    {
     "data": {
      "text/plain": [
       "1707520"
      ]
     },
     "execution_count": 16,
     "metadata": {},
     "output_type": "execute_result"
    }
   ],
   "source": [
    "len(df)"
   ]
  },
  {
   "cell_type": "code",
   "execution_count": 17,
   "id": "68337b94-af3b-461c-b590-78704cfbe1cb",
   "metadata": {},
   "outputs": [],
   "source": [
    "df_drop_outlier=df[df.lifetime_spent<=40000]"
   ]
  },
  {
   "cell_type": "code",
   "execution_count": 18,
   "id": "4cd906f0-9b47-48ba-9393-ee7b8607c80a",
   "metadata": {},
   "outputs": [],
   "source": [
    "df_drop_outlier=df_drop_outlier[df_drop_outlier.purchase_times<=100]"
   ]
  },
  {
   "cell_type": "code",
   "execution_count": 19,
   "id": "e1a8bddc-8837-4e2c-8658-d7cf9a357517",
   "metadata": {},
   "outputs": [],
   "source": [
    "df_drop_outlier=df_drop_outlier[df_drop_outlier.lifetime_quantity<=1000]"
   ]
  },
  {
   "cell_type": "code",
   "execution_count": 20,
   "id": "e2644c5d-6a9e-4b84-94f7-202bccb5411b",
   "metadata": {},
   "outputs": [
    {
     "data": {
      "text/plain": [
       "1706046"
      ]
     },
     "execution_count": 20,
     "metadata": {},
     "output_type": "execute_result"
    }
   ],
   "source": [
    "len(df_drop_outlier)"
   ]
  },
  {
   "cell_type": "markdown",
   "id": "a2275409-af01-488f-8c89-f14d99510536",
   "metadata": {},
   "source": [
    "### Export to CSV"
   ]
  },
  {
   "cell_type": "code",
   "execution_count": 21,
   "id": "540e227e-06a1-4423-b0d1-012db3f3ad1c",
   "metadata": {},
   "outputs": [],
   "source": [
    "df_drop_outlier.to_csv('data_drop_outlier_03_17_23.csv')"
   ]
  },
  {
   "cell_type": "code",
   "execution_count": null,
   "id": "0dcc8baa-23c8-46eb-a852-d6bf785a9ab8",
   "metadata": {},
   "outputs": [],
   "source": []
  }
 ],
 "metadata": {
  "kernelspec": {
   "display_name": "Python (Local)",
   "language": "python",
   "name": "local-base"
  },
  "language_info": {
   "codemirror_mode": {
    "name": "ipython",
    "version": 3
   },
   "file_extension": ".py",
   "mimetype": "text/x-python",
   "name": "python",
   "nbconvert_exporter": "python",
   "pygments_lexer": "ipython3",
   "version": "3.7.12"
  }
 },
 "nbformat": 4,
 "nbformat_minor": 5
}
