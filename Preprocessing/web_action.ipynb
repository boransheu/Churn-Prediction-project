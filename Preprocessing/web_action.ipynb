{
 "cells": [
  {
   "cell_type": "code",
   "execution_count": 24,
   "id": "42370353-d265-4c6f-91d0-0e27b39abe80",
   "metadata": {},
   "outputs": [],
   "source": [
    "import pandas as pd\n",
    "import numpy as np\n",
    "import os"
   ]
  },
  {
   "cell_type": "markdown",
   "id": "6c9faa3d-22c9-48e0-9b1d-d87161e24e68",
   "metadata": {},
   "source": [
    "### Query Data"
   ]
  },
  {
   "cell_type": "code",
   "execution_count": 18,
   "id": "e1314a60-2479-4a42-a3a3-8e4d95eab5f3",
   "metadata": {},
   "outputs": [],
   "source": [
    "from google.cloud.bigquery import Client, QueryJobConfig\n",
    "client = Client()\n",
    "\n",
    "query = \"\"\"\n",
    "SELECT \n",
    "  yeti_customer_uuid,\n",
    "  COUNT( CASE WHEN web_action = 'product_added' THEN web_action ELSE NULL END) AS product_added_count,\n",
    "  COUNT( CASE WHEN web_action = 'product_added_to_wishlist' THEN web_action ELSE NULL END) AS product_added_to_wishlist_count,\n",
    "  COUNT( CASE WHEN web_action = 'product_removed' THEN web_action ELSE NULL END) AS product_removed_count,\n",
    "  COUNT( CASE WHEN web_action = 'customizer_started' THEN web_action ELSE NULL END) AS customizer_started_count,\n",
    "  COUNT( CASE WHEN web_action = 'customizer_completed' THEN web_action ELSE NULL END) AS customizer_completed_count,\n",
    "  COUNT (CASE WHEN web_action = 'cart_viewed' THEN web_action ELSE NULL END) AS cart_viewed_count,\n",
    "  COUNT( CASE WHEN web_action = 'checkout_started' THEN web_action ELSE NULL END) AS checkout_started_count,\n",
    "  COUNT( CASE WHEN web_action = 'order_cancelled' THEN web_action ELSE NULL END) AS order_cancelled_count\n",
    "\n",
    "FROM  `yeti-dev-edw.aa_anon.aa_web_action` web \n",
    "WHERE source_country = 'US' \n",
    "GROUP BY yeti_customer_uuid\n",
    "\n",
    "\"\"\"\n",
    "job = client.query(query)\n",
    "df = job.to_dataframe()\n"
   ]
  },
  {
   "cell_type": "code",
   "execution_count": 25,
   "id": "5b5b6151-6e25-4b31-ae94-76d1c92971de",
   "metadata": {},
   "outputs": [
    {
     "data": {
      "text/plain": [
       "'/home/jupyter/Data Engineering'"
      ]
     },
     "execution_count": 25,
     "metadata": {},
     "output_type": "execute_result"
    }
   ],
   "source": [
    "os.getcwd()"
   ]
  },
  {
   "cell_type": "markdown",
   "id": "ab9d3dcc-cf52-4b65-b644-2bf44a717699",
   "metadata": {},
   "source": [
    "#### Import data_with_entry_prod_cat.csv"
   ]
  },
  {
   "cell_type": "code",
   "execution_count": 33,
   "id": "ffae5e13-5897-4af4-9c68-cc9ee164abb0",
   "metadata": {},
   "outputs": [],
   "source": [
    "data = pd.read_csv('/home/jupyter/data_with_entry_prod_cat.csv')"
   ]
  },
  {
   "cell_type": "code",
   "execution_count": 28,
   "id": "f1b34b8f-9055-4995-afbb-1bee6ffa9a2b",
   "metadata": {},
   "outputs": [],
   "source": [
    "data = data.iloc[:,1:]"
   ]
  },
  {
   "cell_type": "markdown",
   "id": "cbe60eee-1bf1-47e6-a4b3-a6fc1f04b635",
   "metadata": {},
   "source": [
    "#### Change name of queried data"
   ]
  },
  {
   "cell_type": "code",
   "execution_count": 34,
   "id": "5749706a-4ea2-4d5a-b7ef-74a8b8fcf465",
   "metadata": {},
   "outputs": [],
   "source": [
    "web_action_df = df"
   ]
  },
  {
   "cell_type": "code",
   "execution_count": 35,
   "id": "20a1fc46-a738-4f8e-821b-bef7bea43b33",
   "metadata": {},
   "outputs": [
    {
     "data": {
      "text/html": [
       "<div>\n",
       "<style scoped>\n",
       "    .dataframe tbody tr th:only-of-type {\n",
       "        vertical-align: middle;\n",
       "    }\n",
       "\n",
       "    .dataframe tbody tr th {\n",
       "        vertical-align: top;\n",
       "    }\n",
       "\n",
       "    .dataframe thead th {\n",
       "        text-align: right;\n",
       "    }\n",
       "</style>\n",
       "<table border=\"1\" class=\"dataframe\">\n",
       "  <thead>\n",
       "    <tr style=\"text-align: right;\">\n",
       "      <th></th>\n",
       "      <th>yeti_customer_uuid</th>\n",
       "      <th>product_added_count</th>\n",
       "      <th>product_added_to_wishlist_count</th>\n",
       "      <th>product_removed_count</th>\n",
       "      <th>customizer_started_count</th>\n",
       "      <th>customizer_completed_count</th>\n",
       "      <th>cart_viewed_count</th>\n",
       "      <th>checkout_started_count</th>\n",
       "      <th>order_cancelled_count</th>\n",
       "    </tr>\n",
       "  </thead>\n",
       "  <tbody>\n",
       "    <tr>\n",
       "      <th>0</th>\n",
       "      <td>c8bd7c44-523a-41b4-9163-e2e4e97ae568</td>\n",
       "      <td>61</td>\n",
       "      <td>0</td>\n",
       "      <td>25</td>\n",
       "      <td>45</td>\n",
       "      <td>36</td>\n",
       "      <td>72</td>\n",
       "      <td>20</td>\n",
       "      <td>0</td>\n",
       "    </tr>\n",
       "    <tr>\n",
       "      <th>1</th>\n",
       "      <td>13aba6c8-c83d-46b6-8838-4b56043f6bc0</td>\n",
       "      <td>37</td>\n",
       "      <td>0</td>\n",
       "      <td>3</td>\n",
       "      <td>3</td>\n",
       "      <td>0</td>\n",
       "      <td>26</td>\n",
       "      <td>24</td>\n",
       "      <td>0</td>\n",
       "    </tr>\n",
       "    <tr>\n",
       "      <th>2</th>\n",
       "      <td>a3326e55-c13d-4af6-9154-033d6d2aaee0</td>\n",
       "      <td>58</td>\n",
       "      <td>3</td>\n",
       "      <td>27</td>\n",
       "      <td>48</td>\n",
       "      <td>17</td>\n",
       "      <td>94</td>\n",
       "      <td>31</td>\n",
       "      <td>0</td>\n",
       "    </tr>\n",
       "    <tr>\n",
       "      <th>3</th>\n",
       "      <td>d331747f-92a8-44e5-80b9-16acdd5012ee</td>\n",
       "      <td>34</td>\n",
       "      <td>0</td>\n",
       "      <td>3</td>\n",
       "      <td>32</td>\n",
       "      <td>33</td>\n",
       "      <td>11</td>\n",
       "      <td>5</td>\n",
       "      <td>0</td>\n",
       "    </tr>\n",
       "    <tr>\n",
       "      <th>4</th>\n",
       "      <td>fa75003d-0cf9-4150-b1f7-e52bea3c8a2e</td>\n",
       "      <td>273</td>\n",
       "      <td>2</td>\n",
       "      <td>370</td>\n",
       "      <td>9</td>\n",
       "      <td>1</td>\n",
       "      <td>94</td>\n",
       "      <td>67</td>\n",
       "      <td>0</td>\n",
       "    </tr>\n",
       "    <tr>\n",
       "      <th>...</th>\n",
       "      <td>...</td>\n",
       "      <td>...</td>\n",
       "      <td>...</td>\n",
       "      <td>...</td>\n",
       "      <td>...</td>\n",
       "      <td>...</td>\n",
       "      <td>...</td>\n",
       "      <td>...</td>\n",
       "      <td>...</td>\n",
       "    </tr>\n",
       "    <tr>\n",
       "      <th>5510081</th>\n",
       "      <td>b8533384-b05c-4576-9653-234826e4aa91</td>\n",
       "      <td>15</td>\n",
       "      <td>0</td>\n",
       "      <td>5</td>\n",
       "      <td>1</td>\n",
       "      <td>0</td>\n",
       "      <td>53</td>\n",
       "      <td>1</td>\n",
       "      <td>0</td>\n",
       "    </tr>\n",
       "    <tr>\n",
       "      <th>5510082</th>\n",
       "      <td>0f755a22-debb-42c2-9d77-4f7d7e744260</td>\n",
       "      <td>15</td>\n",
       "      <td>0</td>\n",
       "      <td>14</td>\n",
       "      <td>20</td>\n",
       "      <td>15</td>\n",
       "      <td>13</td>\n",
       "      <td>7</td>\n",
       "      <td>0</td>\n",
       "    </tr>\n",
       "    <tr>\n",
       "      <th>5510083</th>\n",
       "      <td>d9367fc6-43e3-4565-92f3-6915b052e7d5</td>\n",
       "      <td>15</td>\n",
       "      <td>0</td>\n",
       "      <td>1</td>\n",
       "      <td>17</td>\n",
       "      <td>11</td>\n",
       "      <td>14</td>\n",
       "      <td>10</td>\n",
       "      <td>0</td>\n",
       "    </tr>\n",
       "    <tr>\n",
       "      <th>5510084</th>\n",
       "      <td>167c0d03-3c0e-40f2-a1ad-e62ec20cc1da</td>\n",
       "      <td>15</td>\n",
       "      <td>0</td>\n",
       "      <td>3</td>\n",
       "      <td>18</td>\n",
       "      <td>13</td>\n",
       "      <td>11</td>\n",
       "      <td>3</td>\n",
       "      <td>0</td>\n",
       "    </tr>\n",
       "    <tr>\n",
       "      <th>5510085</th>\n",
       "      <td>d4b10ff5-4426-4fc8-8216-0fe95c48da9c</td>\n",
       "      <td>15</td>\n",
       "      <td>0</td>\n",
       "      <td>7</td>\n",
       "      <td>17</td>\n",
       "      <td>4</td>\n",
       "      <td>22</td>\n",
       "      <td>5</td>\n",
       "      <td>0</td>\n",
       "    </tr>\n",
       "  </tbody>\n",
       "</table>\n",
       "<p>5510086 rows × 9 columns</p>\n",
       "</div>"
      ],
      "text/plain": [
       "                           yeti_customer_uuid  product_added_count  \\\n",
       "0        c8bd7c44-523a-41b4-9163-e2e4e97ae568                   61   \n",
       "1        13aba6c8-c83d-46b6-8838-4b56043f6bc0                   37   \n",
       "2        a3326e55-c13d-4af6-9154-033d6d2aaee0                   58   \n",
       "3        d331747f-92a8-44e5-80b9-16acdd5012ee                   34   \n",
       "4        fa75003d-0cf9-4150-b1f7-e52bea3c8a2e                  273   \n",
       "...                                       ...                  ...   \n",
       "5510081  b8533384-b05c-4576-9653-234826e4aa91                   15   \n",
       "5510082  0f755a22-debb-42c2-9d77-4f7d7e744260                   15   \n",
       "5510083  d9367fc6-43e3-4565-92f3-6915b052e7d5                   15   \n",
       "5510084  167c0d03-3c0e-40f2-a1ad-e62ec20cc1da                   15   \n",
       "5510085  d4b10ff5-4426-4fc8-8216-0fe95c48da9c                   15   \n",
       "\n",
       "         product_added_to_wishlist_count  product_removed_count  \\\n",
       "0                                      0                     25   \n",
       "1                                      0                      3   \n",
       "2                                      3                     27   \n",
       "3                                      0                      3   \n",
       "4                                      2                    370   \n",
       "...                                  ...                    ...   \n",
       "5510081                                0                      5   \n",
       "5510082                                0                     14   \n",
       "5510083                                0                      1   \n",
       "5510084                                0                      3   \n",
       "5510085                                0                      7   \n",
       "\n",
       "         customizer_started_count  customizer_completed_count  \\\n",
       "0                              45                          36   \n",
       "1                               3                           0   \n",
       "2                              48                          17   \n",
       "3                              32                          33   \n",
       "4                               9                           1   \n",
       "...                           ...                         ...   \n",
       "5510081                         1                           0   \n",
       "5510082                        20                          15   \n",
       "5510083                        17                          11   \n",
       "5510084                        18                          13   \n",
       "5510085                        17                           4   \n",
       "\n",
       "         cart_viewed_count  checkout_started_count  order_cancelled_count  \n",
       "0                       72                      20                      0  \n",
       "1                       26                      24                      0  \n",
       "2                       94                      31                      0  \n",
       "3                       11                       5                      0  \n",
       "4                       94                      67                      0  \n",
       "...                    ...                     ...                    ...  \n",
       "5510081                 53                       1                      0  \n",
       "5510082                 13                       7                      0  \n",
       "5510083                 14                      10                      0  \n",
       "5510084                 11                       3                      0  \n",
       "5510085                 22                       5                      0  \n",
       "\n",
       "[5510086 rows x 9 columns]"
      ]
     },
     "execution_count": 35,
     "metadata": {},
     "output_type": "execute_result"
    }
   ],
   "source": [
    "web_action_df"
   ]
  },
  {
   "cell_type": "markdown",
   "id": "705b16c2-70b0-480a-8745-0b40e4798e7c",
   "metadata": {},
   "source": [
    "#### Merge the two data frames (left join on customer id)"
   ]
  },
  {
   "cell_type": "code",
   "execution_count": 45,
   "id": "b19adf3e-bebd-468e-be7a-a5121cd7eaaf",
   "metadata": {},
   "outputs": [],
   "source": [
    "data_merged = pd.merge(data, web_action_df, how = 'left', left_on = 'customer_id', right_on = 'yeti_customer_uuid')"
   ]
  },
  {
   "cell_type": "code",
   "execution_count": 48,
   "id": "c2ecdbaf-ad59-41b3-a9e2-5eddaeeb594a",
   "metadata": {},
   "outputs": [],
   "source": [
    "data_merged = data_merged.iloc[:,1:]"
   ]
  },
  {
   "cell_type": "code",
   "execution_count": 50,
   "id": "a5c2ee32-efd1-4389-8b1f-9402699f268e",
   "metadata": {},
   "outputs": [
    {
     "data": {
      "text/plain": [
       "customer_id                             0\n",
       "months_elapsed                          0\n",
       "lifetime_spent                          0\n",
       "per_order_spent                         0\n",
       "outdoor_equipment_pct                2594\n",
       "Cargo_pct                            2594\n",
       "Soft_Cooler_pct                      2594\n",
       "Bags_pct                             2594\n",
       "drinkware_pct                        2594\n",
       "Hard_Cooler_pct                      2594\n",
       "other_pct                            2594\n",
       "purchase_times                          0\n",
       "recency                                 0\n",
       "avg_time_btw_orders                     0\n",
       "email_received                          0\n",
       "email_open_rate                    383304\n",
       "unsubscribed                       383304\n",
       "months_since_last_email_open       545492\n",
       "num_distinct_prod_cats                  0\n",
       "lifetime_quantity                       5\n",
       "per_order_quantity                      5\n",
       "has_discount                            5\n",
       "black                               11837\n",
       "navy                                11837\n",
       "white                               11837\n",
       "seafoam                             11837\n",
       "stainless                           11837\n",
       "charcoal                            11837\n",
       "nordic_purple                       11837\n",
       "harvest_red                         11837\n",
       "alpine_yellow                       11837\n",
       "other_color                         11837\n",
       "yeti_customer_uuid_x                    0\n",
       "entry_prod_cat                      20307\n",
       "yeti_customer_uuid_y               411410\n",
       "product_added_count                411410\n",
       "product_added_to_wishlist_count    411410\n",
       "product_removed_count              411410\n",
       "customizer_started_count           411410\n",
       "customizer_completed_count         411410\n",
       "cart_viewed_count                  411410\n",
       "checkout_started_count             411410\n",
       "order_cancelled_count              411410\n",
       "dtype: int64"
      ]
     },
     "execution_count": 50,
     "metadata": {},
     "output_type": "execute_result"
    }
   ],
   "source": [
    "data_merged.isna().sum()"
   ]
  },
  {
   "cell_type": "markdown",
   "id": "5166f5d1-88ba-4d33-9bcd-22ef70a2a3c2",
   "metadata": {},
   "source": [
    "#### Exporting this to CSV"
   ]
  },
  {
   "cell_type": "code",
   "execution_count": 51,
   "id": "84e673d5-ecdb-41ad-935f-e9779d51dfe3",
   "metadata": {},
   "outputs": [],
   "source": [
    "data_merged.to_csv('merged_data_03_15_23.csv')"
   ]
  },
  {
   "cell_type": "code",
   "execution_count": null,
   "id": "79b97d3a-cde3-477d-b0dc-81922dae86c8",
   "metadata": {},
   "outputs": [],
   "source": []
  }
 ],
 "metadata": {
  "kernelspec": {
   "display_name": "Python (Local)",
   "language": "python",
   "name": "local-base"
  },
  "language_info": {
   "codemirror_mode": {
    "name": "ipython",
    "version": 3
   },
   "file_extension": ".py",
   "mimetype": "text/x-python",
   "name": "python",
   "nbconvert_exporter": "python",
   "pygments_lexer": "ipython3",
   "version": "3.7.12"
  }
 },
 "nbformat": 4,
 "nbformat_minor": 5
}
