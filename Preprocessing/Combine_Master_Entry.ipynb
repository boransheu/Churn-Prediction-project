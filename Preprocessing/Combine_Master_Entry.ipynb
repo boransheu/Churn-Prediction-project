{
 "cells": [
  {
   "cell_type": "code",
   "execution_count": null,
   "id": "8857c988-6d72-4b35-9492-8a3a00d65829",
   "metadata": {},
   "outputs": [],
   "source": [
    "import pandas as pd\n",
    "import numpy as np\n",
    "from google.cloud.bigquery import Client, QueryJobConfig\n",
    "import seaborn as sns\n",
    "import os"
   ]
  },
  {
   "cell_type": "code",
   "execution_count": null,
   "id": "f7c9a646-2dcb-42a9-8b92-aabca3b8ea29",
   "metadata": {},
   "outputs": [],
   "source": [
    "from google.cloud.bigquery import Client, QueryJobConfig\n",
    "client = Client()"
   ]
  },
  {
   "cell_type": "code",
   "execution_count": null,
   "id": "27918e7d-36b0-429a-886b-d41ac138c297",
   "metadata": {},
   "outputs": [],
   "source": [
    "query = \"\"\"\n",
    "SELECT \n",
    "  fo_id.yeti_customer_uuid,\n",
    "  #MIN(fo_id.first_order_id) as first_order_id, \n",
    "  #COUNT(oi_prod_table.product_id) as num_prods_in_first_order, \n",
    "  #COUNT(DISTINCT oi_prod_table.product_category) as num_distinct_prod_cats, \n",
    "  MAX(oi_prod_table.price) as max_entry_product_price,\n",
    "FROM\n",
    "  (SELECT\n",
    "    orders.yeti_customer_uuid,\n",
    "    COUNT(orders.order_id) as order_cnt,\n",
    "    MIN(orders.order_id) as first_order_id,\n",
    "    MIN(orders.creation_date) first_order_date,\n",
    "  FROM `yeti-dev-edw.aa_anon.aa_order` orders\n",
    "  WHERE orders.source_country = 'US' AND orders.site_id = 'Yeti_US'\n",
    "  GROUP BY orders.yeti_customer_uuid\n",
    "  HAVING order_cnt > 1) fo_id\n",
    "LEFT JOIN\n",
    "  (\n",
    "  SELECT\n",
    "    order_item.yeti_customer_uuid,\n",
    "    order_item.order_id,\n",
    "    order_item.order_item_id,\n",
    "    order_item.product_id, \n",
    "    product.product_category, \n",
    "    product.price, \n",
    "  FROM `yeti-dev-edw.aa_anon.aa_order_item` order_item\n",
    "  LEFT JOIN `yeti-dev-edw.aa_anon.aa_product` product\n",
    "  ON order_item.product_id = product.product_id) oi_prod_table\n",
    "ON (fo_id.yeti_customer_uuid = oi_prod_table.yeti_customer_uuid AND fo_id.first_order_id = oi_prod_table.order_id)\n",
    "GROUP BY yeti_customer_uuid\n",
    "\"\"\"\n",
    "\n",
    "job = client.query(query)\n",
    "df = job.to_dataframe()"
   ]
  },
  {
   "cell_type": "code",
   "execution_count": null,
   "id": "dee7ea0f-a3f2-4739-a16f-4ac3fc6a1315",
   "metadata": {},
   "outputs": [
    {
     "data": {
      "text/html": [
       "<div>\n",
       "<style scoped>\n",
       "    .dataframe tbody tr th:only-of-type {\n",
       "        vertical-align: middle;\n",
       "    }\n",
       "\n",
       "    .dataframe tbody tr th {\n",
       "        vertical-align: top;\n",
       "    }\n",
       "\n",
       "    .dataframe thead th {\n",
       "        text-align: right;\n",
       "    }\n",
       "</style>\n",
       "<table border=\"1\" class=\"dataframe\">\n",
       "  <thead>\n",
       "    <tr style=\"text-align: right;\">\n",
       "      <th></th>\n",
       "      <th>yeti_customer_uuid</th>\n",
       "      <th>max_entry_product_price</th>\n",
       "    </tr>\n",
       "  </thead>\n",
       "  <tbody>\n",
       "    <tr>\n",
       "      <th>0</th>\n",
       "      <td>92ca2474-0108-4e55-842f-7c7f8849db18</td>\n",
       "      <td>65.00</td>\n",
       "    </tr>\n",
       "    <tr>\n",
       "      <th>1</th>\n",
       "      <td>c2a3c6bd-8124-484d-a561-aa2d9999e5c6</td>\n",
       "      <td>3.00</td>\n",
       "    </tr>\n",
       "    <tr>\n",
       "      <th>2</th>\n",
       "      <td>336cd0de-4aa9-4252-961e-06a6d1de13b1</td>\n",
       "      <td>9.00</td>\n",
       "    </tr>\n",
       "    <tr>\n",
       "      <th>3</th>\n",
       "      <td>fb0791d5-491a-4d28-8aaf-bbd579d99092</td>\n",
       "      <td>39.99</td>\n",
       "    </tr>\n",
       "    <tr>\n",
       "      <th>4</th>\n",
       "      <td>acbbf37d-ad48-430c-8f24-c4ddbabbe144</td>\n",
       "      <td>17.00</td>\n",
       "    </tr>\n",
       "    <tr>\n",
       "      <th>...</th>\n",
       "      <td>...</td>\n",
       "      <td>...</td>\n",
       "    </tr>\n",
       "    <tr>\n",
       "      <th>2131516</th>\n",
       "      <td>fb844946-773b-4f19-a11c-3790b49f7f0a</td>\n",
       "      <td>14.99</td>\n",
       "    </tr>\n",
       "    <tr>\n",
       "      <th>2131517</th>\n",
       "      <td>f2bed748-8f8a-4ed0-858d-7b811ab72a53</td>\n",
       "      <td>14.99</td>\n",
       "    </tr>\n",
       "    <tr>\n",
       "      <th>2131518</th>\n",
       "      <td>56b2ec66-40a2-4dcd-9bcd-dc61a080e96c</td>\n",
       "      <td>14.99</td>\n",
       "    </tr>\n",
       "    <tr>\n",
       "      <th>2131519</th>\n",
       "      <td>b3bed4a1-9279-4a49-9696-ab2c079c919d</td>\n",
       "      <td>14.99</td>\n",
       "    </tr>\n",
       "    <tr>\n",
       "      <th>2131520</th>\n",
       "      <td>3105c1e6-621e-47b7-9cd8-8d5388805b24</td>\n",
       "      <td>14.99</td>\n",
       "    </tr>\n",
       "  </tbody>\n",
       "</table>\n",
       "<p>2131521 rows × 2 columns</p>\n",
       "</div>"
      ],
      "text/plain": [
       "                           yeti_customer_uuid  max_entry_product_price\n",
       "0        92ca2474-0108-4e55-842f-7c7f8849db18                    65.00\n",
       "1        c2a3c6bd-8124-484d-a561-aa2d9999e5c6                     3.00\n",
       "2        336cd0de-4aa9-4252-961e-06a6d1de13b1                     9.00\n",
       "3        fb0791d5-491a-4d28-8aaf-bbd579d99092                    39.99\n",
       "4        acbbf37d-ad48-430c-8f24-c4ddbabbe144                    17.00\n",
       "...                                       ...                      ...\n",
       "2131516  fb844946-773b-4f19-a11c-3790b49f7f0a                    14.99\n",
       "2131517  f2bed748-8f8a-4ed0-858d-7b811ab72a53                    14.99\n",
       "2131518  56b2ec66-40a2-4dcd-9bcd-dc61a080e96c                    14.99\n",
       "2131519  b3bed4a1-9279-4a49-9696-ab2c079c919d                    14.99\n",
       "2131520  3105c1e6-621e-47b7-9cd8-8d5388805b24                    14.99\n",
       "\n",
       "[2131521 rows x 2 columns]"
      ]
     },
     "execution_count": 4,
     "metadata": {},
     "output_type": "execute_result"
    }
   ],
   "source": [
    "df"
   ]
  },
  {
   "cell_type": "code",
   "execution_count": null,
   "id": "aaf6e134-1430-486c-8b72-6918c7acb1ac",
   "metadata": {},
   "outputs": [],
   "source": [
    "df.to_csv('/home/jupyter/Data_files/data_entry_prod_price.csv')"
   ]
  },
  {
   "cell_type": "code",
   "execution_count": null,
   "id": "bf57f693-63a7-40eb-a6ae-6885d3de4e24",
   "metadata": {},
   "outputs": [
    {
     "data": {
      "text/plain": [
       "'/home/jupyter/Data Engineering'"
      ]
     },
     "execution_count": 7,
     "metadata": {},
     "output_type": "execute_result"
    }
   ],
   "source": [
    "os.getcwd()"
   ]
  },
  {
   "cell_type": "markdown",
   "id": "2958c09a-972a-49a3-970f-1f9c7c2ba52a",
   "metadata": {},
   "source": [
    "### Combining this with latest data"
   ]
  },
  {
   "cell_type": "code",
   "execution_count": null,
   "id": "9d666356-9a3b-4d81-aad8-b83c40ae7d42",
   "metadata": {},
   "outputs": [],
   "source": [
    "data_entry_prod_price = pd.read_csv('/home/jupyter/Data_files/data_entry_prod_price.csv')"
   ]
  },
  {
   "cell_type": "code",
   "execution_count": null,
   "id": "be1438e6-da08-43e7-8c74-153f1a76579e",
   "metadata": {},
   "outputs": [],
   "source": [
    "data_entry_prod_price = data_entry_prod_price.iloc[:,1:]"
   ]
  },
  {
   "cell_type": "code",
   "execution_count": null,
   "id": "888a454a-5dcb-4cbb-af22-bcafe7d02216",
   "metadata": {},
   "outputs": [],
   "source": [
    "data_drop_outliers = pd.read_csv('/home/jupyter/Data_files/data_drop_outlier_03_17_23.csv')"
   ]
  },
  {
   "cell_type": "code",
   "execution_count": null,
   "id": "9b95b88b-7548-4c46-959e-3e198b66a604",
   "metadata": {},
   "outputs": [],
   "source": [
    "data_drop_outliers = data_drop_outliers.iloc[:,2:]"
   ]
  },
  {
   "cell_type": "code",
   "execution_count": null,
   "id": "c5a4820d-c922-4187-85da-6ba242d4f0f1",
   "metadata": {},
   "outputs": [],
   "source": [
    "data_merged = pd.merge(data_drop_outliers, data_entry_prod_price, how='left',left_on = 'customer_id',right_on = 'yeti_customer_uuid')"
   ]
  },
  {
   "cell_type": "code",
   "execution_count": null,
   "id": "cbd624bb-cb14-4517-a206-414aeee5c0f2",
   "metadata": {},
   "outputs": [],
   "source": [
    "data_merged = data_merged.drop(columns = ['yeti_customer_uuid','entry_prod_cat'])"
   ]
  },
  {
   "cell_type": "code",
   "execution_count": null,
   "id": "506d66e2-dc0e-4968-872b-b546eaa3f0e8",
   "metadata": {},
   "outputs": [
    {
     "name": "stdout",
     "output_type": "stream",
     "text": [
      "<class 'pandas.core.frame.DataFrame'>\n",
      "Int64Index: 1706046 entries, 0 to 1706045\n",
      "Data columns (total 41 columns):\n",
      " #   Column                           Dtype  \n",
      "---  ------                           -----  \n",
      " 0   customer_id                      object \n",
      " 1   avg_time_btw_orders              float64\n",
      " 2   recency                          float64\n",
      " 3   months_elapsed                   float64\n",
      " 4   purchase_times                   int64  \n",
      " 5   lifetime_spent                   float64\n",
      " 6   lifetime_quantity                float64\n",
      " 7   per_order_spent                  float64\n",
      " 8   per_order_quantity               float64\n",
      " 9   distinct_category_count          int64  \n",
      " 10  discount_frequency_order         float64\n",
      " 11  discount_frequency_product       float64\n",
      " 12  outdoor_equipment_pct            float64\n",
      " 13  cargo_pct                        float64\n",
      " 14  soft_cooler_pct                  float64\n",
      " 15  bags_pct                         float64\n",
      " 16  drinkware_pct                    float64\n",
      " 17  hard_cooler_pct                  float64\n",
      " 18  other_pct                        float64\n",
      " 19  black_pct                        float64\n",
      " 20  white_pct                        float64\n",
      " 21  navy_pct                         float64\n",
      " 22  seaform_pct                      float64\n",
      " 23  stainless_pct                    float64\n",
      " 24  charcoal_pct                     float64\n",
      " 25  nordic_purple_pct                float64\n",
      " 26  harvest_red_pct                  float64\n",
      " 27  alpine_yellow_pct                float64\n",
      " 28  other_color_pct                  float64\n",
      " 29  product_added_count              float64\n",
      " 30  product_added_to_wishlist_count  float64\n",
      " 31  product_removed_count            float64\n",
      " 32  customizer_started_count         float64\n",
      " 33  customizer_completed_count       float64\n",
      " 34  cart_viewed_count                float64\n",
      " 35  checkout_started_count           float64\n",
      " 36  order_cancelled_count            float64\n",
      " 37  email_received                   int64  \n",
      " 38  email_open_rate                  float64\n",
      " 39  unsubscribed                     float64\n",
      " 40  max_entry_product_price          float64\n",
      "dtypes: float64(37), int64(3), object(1)\n",
      "memory usage: 546.7+ MB\n"
     ]
    }
   ],
   "source": [
    "data_merged.info()"
   ]
  },
  {
   "cell_type": "markdown",
   "id": "22ae15ca-33ae-43b1-b992-056ce03de233",
   "metadata": {},
   "source": [
    "### Export this csv"
   ]
  },
  {
   "cell_type": "code",
   "execution_count": null,
   "id": "8bbc94a3-408b-48f2-b4a4-4ecde39ff99f",
   "metadata": {},
   "outputs": [],
   "source": [
    "data_merged.to_csv('/home/jupyter/Data_files/data_w_entry_prod_price_no_outliers_03_22_23.csv')"
   ]
  },
  {
   "cell_type": "code",
   "execution_count": null,
   "id": "e2e1514e-644f-4f29-aa32-6701ac173727",
   "metadata": {},
   "outputs": [],
   "source": []
  }
 ],
 "metadata": {
  "kernelspec": {
   "display_name": "Python (Local)",
   "language": "python",
   "name": "local-base"
  },
  "language_info": {
   "codemirror_mode": {
    "name": "ipython",
    "version": 3
   },
   "file_extension": ".py",
   "mimetype": "text/x-python",
   "name": "python",
   "nbconvert_exporter": "python",
   "pygments_lexer": "ipython3",
   "version": "3.7.12"
  }
 },
 "nbformat": 4,
 "nbformat_minor": 5
}
